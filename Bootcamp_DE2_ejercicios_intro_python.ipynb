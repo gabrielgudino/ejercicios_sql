{
  "nbformat": 4,
  "nbformat_minor": 0,
  "metadata": {
    "colab": {
      "provenance": [],
      "collapsed_sections": [
        "MXV4S8C-nM5B"
      ],
      "include_colab_link": true
    },
    "kernelspec": {
      "name": "python3",
      "display_name": "Python 3"
    },
    "language_info": {
      "name": "python"
    }
  },
  "cells": [
    {
      "cell_type": "markdown",
      "metadata": {
        "id": "view-in-github",
        "colab_type": "text"
      },
      "source": [
        "<a href=\"https://colab.research.google.com/github/gabrielgudino/ejercicios_sql/blob/main/Bootcamp_DE2_ejercicios_intro_python.ipynb\" target=\"_parent\"><img src=\"https://colab.research.google.com/assets/colab-badge.svg\" alt=\"Open In Colab\"/></a>"
      ]
    },
    {
      "cell_type": "markdown",
      "source": [
        "\n",
        "<img src=\"https://i.ibb.co/PQjhtPK/Logo-Datos-Vivos.png\" width=\"400px\"> \n",
        "\n",
        "# Bootcamp Data Engineer\n",
        "\n",
        "\n",
        "\n",
        "Seguinos en las redes para mas contenido:\n",
        " [Instagram](https://www.instagram.com/escueladedatosvivos/) | [Linkedin](https://www.linkedin.com/company/escuela-de-datos-vivos/) | [Twitter](https://twitter.com/datos_vivos) \n",
        "\n",
        "Canal de [YouTube](https://www.youtube.com/c/Escueladedatosvivosai).\n",
        "\n",
        "<br>\n",
        "\n",
        "\n",
        "\n",
        "---"
      ],
      "metadata": {
        "id": "MXV4S8C-nM5B"
      }
    },
    {
      "cell_type": "markdown",
      "source": [
        "# Ejercicios introductorios a Python"
      ],
      "metadata": {
        "id": "wWCV60dznwXO"
      }
    },
    {
      "cell_type": "markdown",
      "source": [
        "## 1) Importar datos y analisis inicial"
      ],
      "metadata": {
        "id": "S-qa_fuvh2My"
      }
    },
    {
      "cell_type": "markdown",
      "source": [
        "1.a) Importar datos y verificar datatypes\n",
        "\n",
        "https://raw.githubusercontent.com/pablo14/datasets/main/star_wars/starwars.csv"
      ],
      "metadata": {
        "id": "3UPqSHWrh5tC"
      }
    },
    {
      "cell_type": "code",
      "source": [],
      "metadata": {
        "id": "7DoruLUkqjKn"
      },
      "execution_count": null,
      "outputs": []
    },
    {
      "cell_type": "markdown",
      "source": [
        "1.b) Con iloc, mostrar toda la columna name"
      ],
      "metadata": {
        "id": "NjAnw71JiNte"
      }
    },
    {
      "cell_type": "code",
      "source": [],
      "metadata": {
        "id": "udUivD7gqjiU"
      },
      "execution_count": null,
      "outputs": []
    },
    {
      "cell_type": "markdown",
      "source": [
        "1.c) Con iloc, mostrar todo el registro 3"
      ],
      "metadata": {
        "id": "UbQ81_XljBDm"
      }
    },
    {
      "cell_type": "code",
      "source": [],
      "metadata": {
        "id": "rWpgcf-3qj27"
      },
      "execution_count": null,
      "outputs": []
    },
    {
      "cell_type": "markdown",
      "source": [
        "1.d) Mostrar los nombres de columnas del dataframe"
      ],
      "metadata": {
        "id": "-iDGbyIqjdTe"
      }
    },
    {
      "cell_type": "code",
      "source": [],
      "metadata": {
        "id": "a9WcJkRDqkND"
      },
      "execution_count": null,
      "outputs": []
    },
    {
      "cell_type": "markdown",
      "source": [
        "1.e) Mostrar el shape del dataframe"
      ],
      "metadata": {
        "id": "Aa8q2f3rkkcp"
      }
    },
    {
      "cell_type": "code",
      "source": [],
      "metadata": {
        "id": "OC8QvlBLqko8"
      },
      "execution_count": null,
      "outputs": []
    },
    {
      "cell_type": "markdown",
      "source": [
        "1.f) Mostrar los primeros 10 registros"
      ],
      "metadata": {
        "id": "wvj_J_1OkyzJ"
      }
    },
    {
      "cell_type": "code",
      "source": [],
      "metadata": {
        "id": "lRXxPbH3qk7s"
      },
      "execution_count": null,
      "outputs": []
    },
    {
      "cell_type": "markdown",
      "source": [
        "1.g) Mostrar los ultimos 5 registros"
      ],
      "metadata": {
        "id": "rQRr2ac7k08J"
      }
    },
    {
      "cell_type": "code",
      "source": [],
      "metadata": {
        "id": "w9raCMSNqlO-"
      },
      "execution_count": null,
      "outputs": []
    },
    {
      "cell_type": "markdown",
      "source": [
        "## 2) Preparacion de datos"
      ],
      "metadata": {
        "id": "Im7YnKtKoL1n"
      }
    },
    {
      "cell_type": "markdown",
      "source": [
        "2.a) Obtener nulos de la columna species (tip: seleccionar primero los nulos de la columna, por ejemplo 'dataframe['columna'].isna()' y usarlos luego para filtrar los nulos)"
      ],
      "metadata": {
        "id": "GTvgnHXIlHz8"
      }
    },
    {
      "cell_type": "code",
      "source": [],
      "metadata": {
        "id": "dK5Db1ryqo7i"
      },
      "execution_count": null,
      "outputs": []
    },
    {
      "cell_type": "markdown",
      "source": [
        "2.b) Reemplazar nulos en la columna 'species' por el string 'Unknown'"
      ],
      "metadata": {
        "id": "1SMuSihymHA3"
      }
    },
    {
      "cell_type": "code",
      "source": [],
      "metadata": {
        "id": "sw9bJTesqpPG"
      },
      "execution_count": null,
      "outputs": []
    },
    {
      "cell_type": "markdown",
      "source": [
        "2.c) Reemplazar nulos de la columna 'mass' por la mediana de la columna"
      ],
      "metadata": {
        "id": "kK3b6qU4m3zV"
      }
    },
    {
      "cell_type": "code",
      "source": [],
      "metadata": {
        "id": "Fhbv4IejqpnU"
      },
      "execution_count": null,
      "outputs": []
    },
    {
      "cell_type": "markdown",
      "source": [
        "2.d) Eliminar las columnas 'sex' y 'skin_color'"
      ],
      "metadata": {
        "id": "Wcv5ULR9nyJN"
      }
    },
    {
      "cell_type": "code",
      "source": [],
      "metadata": {
        "id": "mddOOM7mqp6l"
      },
      "execution_count": null,
      "outputs": []
    },
    {
      "cell_type": "markdown",
      "source": [
        "2.f) Ordenar el dataframe ascendentemente por la columna mass"
      ],
      "metadata": {
        "id": "6WVEe1lAS3bk"
      }
    },
    {
      "cell_type": "code",
      "source": [],
      "metadata": {
        "id": "KeE9e-s6qqOr"
      },
      "execution_count": null,
      "outputs": []
    },
    {
      "cell_type": "markdown",
      "source": [
        "2.g) Crear una nueva columna llamada mass_lb"
      ],
      "metadata": {
        "id": "_JmTQzdAT72N"
      }
    },
    {
      "cell_type": "code",
      "source": [],
      "metadata": {
        "id": "BDPEibZgqquK"
      },
      "execution_count": null,
      "outputs": []
    },
    {
      "cell_type": "markdown",
      "source": [
        "2.h) Renombrar la columna 'mass' a 'mass_kg'"
      ],
      "metadata": {
        "id": "YqYc_hXkWIq2"
      }
    },
    {
      "cell_type": "code",
      "source": [],
      "metadata": {
        "id": "bogWCieoqrJi"
      },
      "execution_count": null,
      "outputs": []
    },
    {
      "cell_type": "markdown",
      "source": [
        "2.i) Reordenar las columnas del dataframe, ubicando 'mass_lb' a la derecha de 'mass_kg'"
      ],
      "metadata": {
        "id": "7MbrBKnBVY7p"
      }
    },
    {
      "cell_type": "code",
      "source": [],
      "metadata": {
        "id": "joIsfhGHqrkE"
      },
      "execution_count": null,
      "outputs": []
    },
    {
      "cell_type": "markdown",
      "source": [
        "2.j) Eliminar del dataset, los registros en donde mass_kg sea menor a 20"
      ],
      "metadata": {
        "id": "_le8B5GvXQQo"
      }
    },
    {
      "cell_type": "code",
      "source": [],
      "metadata": {
        "id": "tH0sAIQfqr9G"
      },
      "execution_count": null,
      "outputs": []
    },
    {
      "cell_type": "markdown",
      "source": [
        "## 3) Exportar dataframe"
      ],
      "metadata": {
        "id": "RhGJqjKkoUs7"
      }
    },
    {
      "cell_type": "markdown",
      "source": [
        "Exportar a CSV, usando como separador el caracter |"
      ],
      "metadata": {
        "id": "lb_E3htZYfFo"
      }
    },
    {
      "cell_type": "code",
      "source": [],
      "metadata": {
        "id": "Bb1gnD2qqsv3"
      },
      "execution_count": null,
      "outputs": []
    },
    {
      "cell_type": "markdown",
      "source": [
        "## 4) Ejercicio integrador"
      ],
      "metadata": {
        "id": "wreUTUqaol-G"
      }
    },
    {
      "cell_type": "markdown",
      "source": [
        "Para completar este ejercicio, debes usar el dataframe d_star_wars con todas las modificaciones realizadas en los puntos anteriores"
      ],
      "metadata": {
        "id": "aianfMSvMXEh"
      }
    },
    {
      "cell_type": "markdown",
      "source": [
        "4.a) Reemplazar los nulos de la columna 'birth_year' por el promedio"
      ],
      "metadata": {
        "id": "XI0WL1BxhXP9"
      }
    },
    {
      "cell_type": "code",
      "source": [],
      "metadata": {
        "id": "PUa7W-NBqtqg"
      },
      "execution_count": null,
      "outputs": []
    },
    {
      "cell_type": "markdown",
      "source": [
        "4.b) Eliminar los decimales de la columna 'birth_year' (investigar round() )"
      ],
      "metadata": {
        "id": "uNp_6CmKhjb4"
      }
    },
    {
      "cell_type": "code",
      "source": [],
      "metadata": {
        "id": "xZbMZ7SUqt8d"
      },
      "execution_count": null,
      "outputs": []
    },
    {
      "cell_type": "markdown",
      "source": [
        "4.c) Cambiar el tipo de datos de la columna 'birth_year' de float a integer"
      ],
      "metadata": {
        "id": "1WM9H2qVjZCS"
      }
    },
    {
      "cell_type": "code",
      "source": [],
      "metadata": {
        "id": "g7i4cw8rquRj"
      },
      "execution_count": null,
      "outputs": []
    },
    {
      "cell_type": "markdown",
      "source": [
        "4.d) Cambiar el tipo de datos de la columna 'birth_year' de integer a string"
      ],
      "metadata": {
        "id": "hdO78H5Xhz81"
      }
    },
    {
      "cell_type": "code",
      "source": [],
      "metadata": {
        "id": "Sc4tE1sUquk1"
      },
      "execution_count": null,
      "outputs": []
    },
    {
      "cell_type": "markdown",
      "source": [
        "4.e) Crear una funcion llamada for_sample.\n",
        "      La misma debe, mediante un for, hacer prints en pantalla con el siguiente formato:\n",
        "  `R2-D2 nacido/a en el año 33 en el planeta Naboo`\n",
        "R2-D2(name), 33(birth_year), Naboo(homeworld)\n",
        "\n",
        "      Parametros: \n",
        "      *   df: dataframe \n",
        "      *   iteraciones: cantidad de registros a mostrar en el print (elegir un numero aleatorio)\n",
        "\n"
      ],
      "metadata": {
        "id": "HUrGVWWclrG6"
      }
    },
    {
      "cell_type": "code",
      "source": [],
      "metadata": {
        "id": "QiwFbm_dqvIi"
      },
      "execution_count": null,
      "outputs": []
    }
  ]
}